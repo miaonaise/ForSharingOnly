{
 "cells": [
  {
   "cell_type": "code",
   "execution_count": 1,
   "metadata": {},
   "outputs": [],
   "source": [
    "import numpy as np\n",
    "import pandas as pd"
   ]
  },
  {
   "cell_type": "code",
   "execution_count": 3,
   "metadata": {},
   "outputs": [],
   "source": [
    "class chain_ladder():\n",
    "    def __init__(self,df):\n",
    "        self.column_indices = {c: i for i, c in enumerate(df.columns)}\n",
    "        self.pay00i = self.column_indices['Pay00']\n",
    "        self.df = df\n",
    "    \n",
    "    def make_triangle_data(self):\n",
    "        triangle = pd.DataFrame(columns = ['RepDel','AY','RelDevYear','claim_incurred','link_ratio'])\n",
    "        for rep_del in range(12):\n",
    "            years = 12-rep_del\n",
    "            start_i = self.pay00i + rep_del\n",
    "            for ay in range(1,years+1):\n",
    "                tmp = self.df.loc[(self.df['AY']==ay)&(self.df['RepDel']==rep_del)]\n",
    "                claim_incurred = 0\n",
    "                for rel_dev in range(years-ay+1):\n",
    "                    index = start_i + rel_dev\n",
    "                    claim_incurred_new = claim_incurred + tmp.iloc[:,index].mean()\n",
    "                    if claim_incurred != 0:\n",
    "                        link_ratio = claim_incurred_new/claim_incurred\n",
    "                    else:\n",
    "                        link_ratio = np.NaN\n",
    "                    claim_incurred = claim_incurred_new\n",
    "                    new_row = {'RepDel':rep_del, 'AY':ay, 'RelDevYear':rel_dev, 'claim_incurred':claim_incurred, \n",
    "                          'link_ratio': link_ratio}\n",
    "                    triangle = triangle.append(new_row, ignore_index = True)\n",
    "        return triangle\n",
    "    \n",
    "    def get_average_link_ratio(self, triangle):\n",
    "        average = pd.DataFrame(columns = ['RepDel','RelDevYear','link'])\n",
    "        for rep_del in range(11):\n",
    "            for rel_dev in range(1,12-rep_del):\n",
    "                avg_link = triangle.loc[(triangle['RepDel']==rep_del)&(triangle['RelDevYear']==rel_dev)].link_ratio.mean()\n",
    "                new_row = {'RepDel':rep_del,'RelDevYear':rel_dev,'link': avg_link}\n",
    "                average = average.append(new_row, ignore_index = True)\n",
    "        return average\n",
    "    \n",
    "    def chain_ladder_average_UC(self):\n",
    "        triangle = self.make_triangle_data()\n",
    "        average_links = self.get_average_link_ratio(triangle)\n",
    "    \n",
    "        average_UC = pd.DataFrame(columns = ['RepDel','AY','avg_UC'])\n",
    "    \n",
    "        for rep_del in range(12):\n",
    "            years = 12-rep_del\n",
    "            #start_i = self.pay00i + rep_del\n",
    "            for ay in range(1,years+1):\n",
    "                max_dev = years - ay\n",
    "                UC = float(triangle.loc[(triangle['RepDel']==rep_del)&\n",
    "                              (triangle['AY']==ay)&\n",
    "                             (triangle['RelDevYear']==max_dev)].claim_incurred)\n",
    "                while max_dev < (years-1):\n",
    "                    factor = float(average_links.loc[(average_links['RepDel']==rep_del)&\n",
    "                                                (average_links['RelDevYear']==(max_dev+1))].link)\n",
    "                    UC = UC*factor\n",
    "                    max_dev += 1\n",
    "            \n",
    "                new_row = {'RepDel':rep_del,'AY':ay,'avg_UC': UC}\n",
    "                average_UC = average_UC.append(new_row, ignore_index = True)\n",
    "        \n",
    "        exposures = []\n",
    "        for rep_del in range(12):\n",
    "            years = 12-rep_del\n",
    "            for ay in range(1,years+1):\n",
    "                exposures.append(len(self.df.loc[(self.df['RepDel']==rep_del)&(self.df['AY']==ay)]))\n",
    "        \n",
    "        average_UC['Exposure'] = exposures\n",
    "    \n",
    "        return average_UC"
   ]
  },
  {
   "cell_type": "code",
   "execution_count": null,
   "metadata": {},
   "outputs": [],
   "source": []
  }
 ],
 "metadata": {
  "kernelspec": {
   "display_name": "Python 3",
   "language": "python",
   "name": "python3"
  },
  "language_info": {
   "codemirror_mode": {
    "name": "ipython",
    "version": 3
   },
   "file_extension": ".py",
   "mimetype": "text/x-python",
   "name": "python",
   "nbconvert_exporter": "python",
   "pygments_lexer": "ipython3",
   "version": "3.8.3"
  }
 },
 "nbformat": 4,
 "nbformat_minor": 4
}
